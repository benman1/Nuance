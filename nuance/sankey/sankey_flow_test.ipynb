{
 "cells": [
  {
   "cell_type": "markdown",
   "metadata": {},
   "source": [
    "## test sankey_flow visualization with Titanic dataset"
   ]
  },
  {
   "cell_type": "code",
   "execution_count": 1,
   "metadata": {
    "collapsed": true
   },
   "outputs": [],
   "source": [
    "import pandas as pd\n",
    "import numpy as np"
   ]
  },
  {
   "cell_type": "markdown",
   "metadata": {},
   "source": [
    "## read data"
   ]
  },
  {
   "cell_type": "code",
   "execution_count": 2,
   "metadata": {
    "collapsed": true
   },
   "outputs": [],
   "source": [
    "raw = pd.read_csv('data/titanic_train.csv')"
   ]
  },
  {
   "cell_type": "code",
   "execution_count": 3,
   "metadata": {
    "collapsed": false
   },
   "outputs": [
    {
     "data": {
      "text/html": [
       "<div>\n",
       "<table border=\"1\" class=\"dataframe\">\n",
       "  <thead>\n",
       "    <tr style=\"text-align: right;\">\n",
       "      <th></th>\n",
       "      <th>PassengerId</th>\n",
       "      <th>Survived</th>\n",
       "      <th>Pclass</th>\n",
       "      <th>Name</th>\n",
       "      <th>Sex</th>\n",
       "      <th>Age</th>\n",
       "      <th>SibSp</th>\n",
       "      <th>Parch</th>\n",
       "      <th>Ticket</th>\n",
       "      <th>Fare</th>\n",
       "      <th>Cabin</th>\n",
       "      <th>Embarked</th>\n",
       "    </tr>\n",
       "  </thead>\n",
       "  <tbody>\n",
       "    <tr>\n",
       "      <th>0</th>\n",
       "      <td>1</td>\n",
       "      <td>0</td>\n",
       "      <td>3</td>\n",
       "      <td>Braund, Mr. Owen Harris</td>\n",
       "      <td>male</td>\n",
       "      <td>22.0</td>\n",
       "      <td>1</td>\n",
       "      <td>0</td>\n",
       "      <td>A/5 21171</td>\n",
       "      <td>7.2500</td>\n",
       "      <td>NaN</td>\n",
       "      <td>S</td>\n",
       "    </tr>\n",
       "    <tr>\n",
       "      <th>1</th>\n",
       "      <td>2</td>\n",
       "      <td>1</td>\n",
       "      <td>1</td>\n",
       "      <td>Cumings, Mrs. John Bradley (Florence Briggs Th...</td>\n",
       "      <td>female</td>\n",
       "      <td>38.0</td>\n",
       "      <td>1</td>\n",
       "      <td>0</td>\n",
       "      <td>PC 17599</td>\n",
       "      <td>71.2833</td>\n",
       "      <td>C85</td>\n",
       "      <td>C</td>\n",
       "    </tr>\n",
       "    <tr>\n",
       "      <th>2</th>\n",
       "      <td>3</td>\n",
       "      <td>1</td>\n",
       "      <td>3</td>\n",
       "      <td>Heikkinen, Miss. Laina</td>\n",
       "      <td>female</td>\n",
       "      <td>26.0</td>\n",
       "      <td>0</td>\n",
       "      <td>0</td>\n",
       "      <td>STON/O2. 3101282</td>\n",
       "      <td>7.9250</td>\n",
       "      <td>NaN</td>\n",
       "      <td>S</td>\n",
       "    </tr>\n",
       "    <tr>\n",
       "      <th>3</th>\n",
       "      <td>4</td>\n",
       "      <td>1</td>\n",
       "      <td>1</td>\n",
       "      <td>Futrelle, Mrs. Jacques Heath (Lily May Peel)</td>\n",
       "      <td>female</td>\n",
       "      <td>35.0</td>\n",
       "      <td>1</td>\n",
       "      <td>0</td>\n",
       "      <td>113803</td>\n",
       "      <td>53.1000</td>\n",
       "      <td>C123</td>\n",
       "      <td>S</td>\n",
       "    </tr>\n",
       "    <tr>\n",
       "      <th>4</th>\n",
       "      <td>5</td>\n",
       "      <td>0</td>\n",
       "      <td>3</td>\n",
       "      <td>Allen, Mr. William Henry</td>\n",
       "      <td>male</td>\n",
       "      <td>35.0</td>\n",
       "      <td>0</td>\n",
       "      <td>0</td>\n",
       "      <td>373450</td>\n",
       "      <td>8.0500</td>\n",
       "      <td>NaN</td>\n",
       "      <td>S</td>\n",
       "    </tr>\n",
       "  </tbody>\n",
       "</table>\n",
       "</div>"
      ],
      "text/plain": [
       "   PassengerId  Survived  Pclass  \\\n",
       "0            1         0       3   \n",
       "1            2         1       1   \n",
       "2            3         1       3   \n",
       "3            4         1       1   \n",
       "4            5         0       3   \n",
       "\n",
       "                                                Name     Sex   Age  SibSp  \\\n",
       "0                            Braund, Mr. Owen Harris    male  22.0      1   \n",
       "1  Cumings, Mrs. John Bradley (Florence Briggs Th...  female  38.0      1   \n",
       "2                             Heikkinen, Miss. Laina  female  26.0      0   \n",
       "3       Futrelle, Mrs. Jacques Heath (Lily May Peel)  female  35.0      1   \n",
       "4                           Allen, Mr. William Henry    male  35.0      0   \n",
       "\n",
       "   Parch            Ticket     Fare Cabin Embarked  \n",
       "0      0         A/5 21171   7.2500   NaN        S  \n",
       "1      0          PC 17599  71.2833   C85        C  \n",
       "2      0  STON/O2. 3101282   7.9250   NaN        S  \n",
       "3      0            113803  53.1000  C123        S  \n",
       "4      0            373450   8.0500   NaN        S  "
      ]
     },
     "execution_count": 3,
     "metadata": {},
     "output_type": "execute_result"
    }
   ],
   "source": [
    "raw.head()"
   ]
  },
  {
   "cell_type": "code",
   "execution_count": 4,
   "metadata": {
    "collapsed": false
   },
   "outputs": [
    {
     "data": {
      "text/plain": [
       "array(['PassengerId', 'Survived', 'Pclass', 'Name', 'Sex', 'Age', 'SibSp',\n",
       "       'Parch', 'Ticket', 'Fare', 'Cabin', 'Embarked'], dtype=object)"
      ]
     },
     "execution_count": 4,
     "metadata": {},
     "output_type": "execute_result"
    }
   ],
   "source": [
    "raw.columns.values"
   ]
  },
  {
   "cell_type": "code",
   "execution_count": 5,
   "metadata": {
    "collapsed": false
   },
   "outputs": [
    {
     "name": "stdout",
     "output_type": "stream",
     "text": [
      "Survived: [0 1]\n",
      "Pclass: [3 1 2]\n",
      "Sex: ['male' 'female']\n",
      "SibSp: [1 0 3 4 2 5 8]\n",
      "Parch: [0 1 2 5 3 4 6]\n",
      "Embarked: ['S' 'C' 'Q' nan]\n"
     ]
    }
   ],
   "source": [
    "# use these columns as layers of nodes\n",
    "use_cols = ['Survived', 'Pclass', 'Sex', 'SibSp', 'Parch', 'Embarked']\n",
    "for col in use_cols:\n",
    "    print '%s: %s' %(col, str(raw[col].unique()))"
   ]
  },
  {
   "cell_type": "code",
   "execution_count": 6,
   "metadata": {
    "collapsed": true
   },
   "outputs": [],
   "source": [
    "raw['Embarked'] = raw['Embarked'].fillna('unknown')"
   ]
  },
  {
   "cell_type": "markdown",
   "metadata": {},
   "source": [
    "## input for generate_sankey_flow\n",
    "The function is expecting a pandas DataFrame. In this DataFrame, each colum represents a state.  \n",
    "Take Titanic for example, columns **['Survived', 'Pclass', 'Sex', 'SibSp', 'Parch', 'Embarked']** are 6 different states. Unique values in each column are all possible state value in that state. And each row represents a unit and its flowing path.  \n",
    "Well, to draw a proper sankey path, you need to calculate how many units is flowing from (status1, value1) to (status2, value1), how many units is flowing from (status2, value1) to (status3, value3), ..., which was tedious. Fortunately, it is handled automatically in **generate_sankey_flow** function."
   ]
  },
  {
   "cell_type": "code",
   "execution_count": 7,
   "metadata": {
    "collapsed": false
   },
   "outputs": [
    {
     "data": {
      "text/html": [
       "<div>\n",
       "<table border=\"1\" class=\"dataframe\">\n",
       "  <thead>\n",
       "    <tr style=\"text-align: right;\">\n",
       "      <th></th>\n",
       "      <th>Survived</th>\n",
       "      <th>Pclass</th>\n",
       "      <th>Sex</th>\n",
       "      <th>SibSp</th>\n",
       "      <th>Parch</th>\n",
       "      <th>Embarked</th>\n",
       "    </tr>\n",
       "  </thead>\n",
       "  <tbody>\n",
       "    <tr>\n",
       "      <th>0</th>\n",
       "      <td>0</td>\n",
       "      <td>3</td>\n",
       "      <td>male</td>\n",
       "      <td>1</td>\n",
       "      <td>0</td>\n",
       "      <td>S</td>\n",
       "    </tr>\n",
       "    <tr>\n",
       "      <th>1</th>\n",
       "      <td>1</td>\n",
       "      <td>1</td>\n",
       "      <td>female</td>\n",
       "      <td>1</td>\n",
       "      <td>0</td>\n",
       "      <td>C</td>\n",
       "    </tr>\n",
       "    <tr>\n",
       "      <th>2</th>\n",
       "      <td>1</td>\n",
       "      <td>3</td>\n",
       "      <td>female</td>\n",
       "      <td>0</td>\n",
       "      <td>0</td>\n",
       "      <td>S</td>\n",
       "    </tr>\n",
       "    <tr>\n",
       "      <th>3</th>\n",
       "      <td>1</td>\n",
       "      <td>1</td>\n",
       "      <td>female</td>\n",
       "      <td>1</td>\n",
       "      <td>0</td>\n",
       "      <td>S</td>\n",
       "    </tr>\n",
       "    <tr>\n",
       "      <th>4</th>\n",
       "      <td>0</td>\n",
       "      <td>3</td>\n",
       "      <td>male</td>\n",
       "      <td>0</td>\n",
       "      <td>0</td>\n",
       "      <td>S</td>\n",
       "    </tr>\n",
       "  </tbody>\n",
       "</table>\n",
       "</div>"
      ],
      "text/plain": [
       "   Survived  Pclass     Sex  SibSp  Parch Embarked\n",
       "0         0       3    male      1      0        S\n",
       "1         1       1  female      1      0        C\n",
       "2         1       3  female      0      0        S\n",
       "3         1       1  female      1      0        S\n",
       "4         0       3    male      0      0        S"
      ]
     },
     "execution_count": 7,
     "metadata": {},
     "output_type": "execute_result"
    }
   ],
   "source": [
    "raw[use_cols].head()"
   ]
  },
  {
   "cell_type": "markdown",
   "metadata": {},
   "source": [
    "## color strategy\n",
    "**node_color_type**, default=\"col_val\"  \n",
    "Can be ['col', 'val', 'col_val', 'cus']\n",
    "- 'col': each column has different color\n",
    "- 'val': each unique value has different color (unique values through all columns)\n",
    "- 'col_val': each unique value in each column has different color\n",
    "- 'cus': customer provide node color mapping\n",
    "\n",
    "**node_color_mapping**, default=None  \n",
    "Customized color mapping.\n",
    "- node_color_mapping = '#fff'  \n",
    "All nodes have the same color\n",
    "- node_color_mapping = dict()  \n",
    "\n",
    "```python\n",
    "node_color_mapping = {\n",
    "    'type': 'col',\n",
    "    'mapping': {\n",
    "        column1: color1, column2: color2, ...\n",
    "    }\n",
    "}\n",
    "\n",
    "node_color_mapping = {\n",
    "    'type': 'val',\n",
    "    'mapping': {\n",
    "        value1: color1, value2: color2, ...\n",
    "    }\n",
    "}\n",
    "\n",
    "node_color_mapping = {\n",
    "    'type': 'col_val',\n",
    "    'mapping': {\n",
    "        column1: {value1: color1, value2: color2, ...},\n",
    "        column2: {value1: color3, value2: color4, ...}\n",
    "    }\n",
    "}\n",
    "```\n",
    "\n",
    "**link_color_type**, default='source'  \n",
    "Can be ['source', 'target', 'both', 'same']\n",
    "- 'source': same color as the source node\n",
    "- 'target': same color as the target node\n",
    "- 'both': color from both target and source\n",
    "- 'same': all links have same color\n",
    "\n",
    "**link_color**, default=None  \n",
    "Only required when `link_color_type=\"same\"`"
   ]
  },
  {
   "cell_type": "markdown",
   "metadata": {},
   "source": [
    "## start generating sankey flow!"
   ]
  },
  {
   "cell_type": "code",
   "execution_count": 8,
   "metadata": {
    "collapsed": true
   },
   "outputs": [],
   "source": [
    "import sys\n",
    "sys.path.insert(0, 'src/')\n",
    "import generate_sankey_flow"
   ]
  },
  {
   "cell_type": "markdown",
   "metadata": {},
   "source": [
    "### use node_color_type"
   ]
  },
  {
   "cell_type": "code",
   "execution_count": 9,
   "metadata": {
    "collapsed": true
   },
   "outputs": [],
   "source": [
    "generate_sankey_flow.draw_sankey_flow(df=raw[use_cols], node_color_type='col', link_color_type='source', \n",
    "                                      width=1600, height=900, graph_name='Titanic', \n",
    "                                      node_color_mapping=None, color_map=None, link_color=None)"
   ]
  },
  {
   "cell_type": "code",
   "execution_count": 18,
   "metadata": {
    "collapsed": true
   },
   "outputs": [],
   "source": [
    "# change color_map\n",
    "generate_sankey_flow.draw_sankey_flow(df=raw[use_cols], node_color_type='col', link_color_type='same', \n",
    "                                      width=1600, height=900, graph_name='Titanic_same', \n",
    "                                      node_color_mapping=None, color_map='tab20', link_color='#ccc')"
   ]
  },
  {
   "cell_type": "markdown",
   "metadata": {},
   "source": [
    "### use customized node_color_type and provide node_color_mapping"
   ]
  },
  {
   "cell_type": "code",
   "execution_count": 15,
   "metadata": {
    "collapsed": false
   },
   "outputs": [],
   "source": [
    "node_color_mapping = {\n",
    "    'type': 'col',\n",
    "    'mapping': {\n",
    "        'Survived': '#9e0142', \n",
    "        'Pclass': '#d53e4f', \n",
    "        'Sex': '#f46d43', \n",
    "        'SibSp': '#fdae61', \n",
    "        'Parch': '#fee08b', \n",
    "        'Embarked': '#ffffbf'\n",
    "    }\n",
    "}\n",
    "generate_sankey_flow.draw_sankey_flow(df=raw[use_cols], node_color_type='cus', link_color_type='source', \n",
    "                                      width=1600, height=900, graph_name='Titanic_col', \n",
    "                                      node_color_mapping=node_color_mapping, color_map=None, link_color=None)"
   ]
  },
  {
   "cell_type": "code",
   "execution_count": 16,
   "metadata": {
    "collapsed": true
   },
   "outputs": [],
   "source": [
    "node_color_mapping = {\n",
    "    'type': 'val',\n",
    "    'mapping': {\n",
    "        0: '#9e0142',\n",
    "        1: '#d53e4f',\n",
    "        2: '#f46d43',\n",
    "        3: '#fdae61',\n",
    "        4: '#fee08b',\n",
    "        5: '#ffffbf',\n",
    "        6: '#e6f598',\n",
    "        8: '#abdda4',\n",
    "        'male': '#66c2a5',\n",
    "        'female': '#3288bd',\n",
    "        'S': '#5e4fa2',\n",
    "        'C': '#9e0142',\n",
    "        'Q': '#d53e4f',\n",
    "        'unknown': '#f46d43'\n",
    "    }\n",
    "}\n",
    "generate_sankey_flow.draw_sankey_flow(df=raw[use_cols], node_color_type='cus', link_color_type='source', \n",
    "                                      width=1600, height=900, graph_name='Titanic_val', \n",
    "                                      node_color_mapping=node_color_mapping, color_map=None, link_color=None)"
   ]
  },
  {
   "cell_type": "code",
   "execution_count": 17,
   "metadata": {
    "collapsed": true
   },
   "outputs": [],
   "source": [
    "node_color_mapping = {\n",
    "    'type': 'col_val',\n",
    "    'mapping': {\n",
    "        'Survived': {0: '#9e0142', 1: '#5e4fa2'},\n",
    "        'Pclass': {1: '#d53e4f', 2: '#3288bd', 3: '#f46d43'},\n",
    "        'Sex': {'male': '#fdae61', 'female': '#66c2a5'},\n",
    "        'SibSp': {0: '#fee08b', 1: '#ffffbf', 2: '#e6f598', 3: '#abdda4', 4: '#9e0142', 5: '#5e4fa2', 8: '#d53e4f'},\n",
    "        'Parch': {0: '#f46d43', 1: '#fdae61', 2: '#fee08b', 3: '#ffffbf', 4: '#e6f598', 5: '#abdda4', 6: '#66c2a5'},\n",
    "        'Embarked': {'S': '#3288bd', 'C': '#9e0142', 'Q': '#d53e4f', 'unknown': '#f46d43'}\n",
    "    }\n",
    "}\n",
    "generate_sankey_flow.draw_sankey_flow(df=raw[use_cols], node_color_type='cus', link_color_type='source', \n",
    "                                      width=1600, height=900, graph_name='Titanic_col_val', \n",
    "                                      node_color_mapping=node_color_mapping, color_map=None, link_color=None)"
   ]
  }
 ],
 "metadata": {
  "anaconda-cloud": {},
  "kernelspec": {
   "display_name": "Python [default]",
   "language": "python",
   "name": "python2"
  },
  "language_info": {
   "codemirror_mode": {
    "name": "ipython",
    "version": 2.0
   },
   "file_extension": ".py",
   "mimetype": "text/x-python",
   "name": "python",
   "nbconvert_exporter": "python",
   "pygments_lexer": "ipython2",
   "version": "2.7.12"
  }
 },
 "nbformat": 4,
 "nbformat_minor": 0
}